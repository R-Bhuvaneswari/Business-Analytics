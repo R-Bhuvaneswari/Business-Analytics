{
  "nbformat": 4,
  "nbformat_minor": 0,
  "metadata": {
    "colab": {
      "provenance": []
    },
    "kernelspec": {
      "name": "python3",
      "display_name": "Python 3"
    },
    "language_info": {
      "name": "python"
    }
  },
  "cells": [
    {
      "cell_type": "markdown",
      "source": [
        "Create a Login Function "
      ],
      "metadata": {
        "id": "T7zyJQF5Ik0z"
      }
    },
    {
      "cell_type": "code",
      "execution_count": 1,
      "metadata": {
        "colab": {
          "base_uri": "https://localhost:8080/"
        },
        "id": "YE9EVQr7Id1l",
        "outputId": "24fd0bb5-c201-4984-dda6-9056e398979f"
      },
      "outputs": [
        {
          "output_type": "stream",
          "name": "stdout",
          "text": [
            "Enter the username Bhuvaneswari\n",
            "Enter the password buvi0987\n",
            "Enter the confirm password buvi0987\n",
            "Login Successful\n"
          ]
        }
      ],
      "source": [
        "def login():\n",
        "  username = input (\"Enter the username \")\n",
        "  password = input (\"Enter the password \")\n",
        "  confirm_password = input (\"Enter the confirm password \")\n",
        "  if(password == confirm_password ):\n",
        "    print(\"Login Successful\")\n",
        "  else:\n",
        "    print(\"Login Failed\")\n",
        "login()\n"
      ]
    },
    {
      "cell_type": "markdown",
      "source": [
        "Write A Program to Find Even And Odd Numbers"
      ],
      "metadata": {
        "id": "5_dtYur9JrCB"
      }
    },
    {
      "cell_type": "code",
      "source": [
        "num = int(input (\"Enter the num \"))\n",
        "if (num % 2) == 0:\n",
        "    print(\"The number is even \")\n",
        "else:\n",
        "    print(\"The number is odd\")\n"
      ],
      "metadata": {
        "colab": {
          "base_uri": "https://localhost:8080/"
        },
        "id": "OsX7h56pJyse",
        "outputId": "4a23dfd2-dd5b-475b-d633-79b09623f4da"
      },
      "execution_count": 2,
      "outputs": [
        {
          "output_type": "stream",
          "name": "stdout",
          "text": [
            "Enter the num 3\n",
            "The number is odd\n"
          ]
        }
      ]
    },
    {
      "cell_type": "markdown",
      "source": [
        "Create A List Of Fruits And Iterate Through Them"
      ],
      "metadata": {
        "id": "JCpPcG8lJ3G3"
      }
    },
    {
      "cell_type": "code",
      "source": [
        "fruits=['Mulberry','Raspberry','Watermelon','Mandarin','Pineapple','Kiwi','Fig','Mango','Banana']\n",
        "for i in fruits:\n",
        "  print(i)\n"
      ],
      "metadata": {
        "colab": {
          "base_uri": "https://localhost:8080/"
        },
        "id": "0W45BkxiJ3sr",
        "outputId": "f432d926-552d-4135-9769-641482d182a4"
      },
      "execution_count": 3,
      "outputs": [
        {
          "output_type": "stream",
          "name": "stdout",
          "text": [
            "Mulberry\n",
            "Raspberry\n",
            "Watermelon\n",
            "Mandarin\n",
            "Pineapple\n",
            "Kiwi\n",
            "Fig\n",
            "Mango\n",
            "Banana\n"
          ]
        }
      ]
    }
  ]
}